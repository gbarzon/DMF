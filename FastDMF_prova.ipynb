{
 "cells": [
  {
   "cell_type": "code",
   "execution_count": 1,
   "id": "31102c3c",
   "metadata": {
    "ExecuteTime": {
     "end_time": "2022-10-17T09:37:37.234455Z",
     "start_time": "2022-10-17T09:37:37.223223Z"
    }
   },
   "outputs": [],
   "source": [
    "import fastdmf as dmf\n",
    "params = dmf.default_params()\n",
    "nb_steps = 20000\n",
    "bold = dmf.run(params, nb_steps)"
   ]
  },
  {
   "cell_type": "code",
   "execution_count": 2,
   "id": "cd3f48b1",
   "metadata": {
    "ExecuteTime": {
     "end_time": "2022-10-17T09:37:40.303420Z",
     "start_time": "2022-10-17T09:37:40.271999Z"
    }
   },
   "outputs": [
    {
     "data": {
      "text/plain": [
       "{'C': array([[0.        , 0.1130285 , 0.14996669, ..., 0.        , 0.        ,\n",
       "         0.        ],\n",
       "        [0.1130285 , 0.        , 0.43577847, ..., 0.        , 0.        ,\n",
       "         0.        ],\n",
       "        [0.14996669, 0.43577847, 0.        , ..., 0.        , 0.        ,\n",
       "         0.        ],\n",
       "        ...,\n",
       "        [0.        , 0.        , 0.        , ..., 0.        , 0.        ,\n",
       "         0.        ],\n",
       "        [0.        , 0.        , 0.        , ..., 0.        , 0.        ,\n",
       "         0.14298715],\n",
       "        [0.        , 0.        , 0.        , ..., 0.        , 0.14298715,\n",
       "         0.        ]]),\n",
       " 'receptors': 0,\n",
       " 'dt': 0.1,\n",
       " 'taon': 100,\n",
       " 'taog': 10,\n",
       " 'gamma': 0.641,\n",
       " 'sigma': 0.01,\n",
       " 'JN': 0.15,\n",
       " 'I0': 0.382,\n",
       " 'Jexte': 1.0,\n",
       " 'Jexti': 0.7,\n",
       " 'w': 1.4,\n",
       " 'de': 0.16,\n",
       " 'Ie': 0.4032258064516129,\n",
       " 'g_e': 310.0,\n",
       " 'di': 0.087,\n",
       " 'Ii': 0.28780487804878047,\n",
       " 'g_i': 615.0,\n",
       " 'wgaine': 0,\n",
       " 'wgaini': 0,\n",
       " 'G': 2,\n",
       " 'TR': 2,\n",
       " 'dtt': 0.001,\n",
       " 'batch_size': 5000,\n",
       " 'J': array([ 3.3430727 ,  5.81312357,  4.54133492,  5.02320386,  6.54781676,\n",
       "         4.90304357,  4.23888916, 10.06217999,  8.15626576,  5.96440254,\n",
       "         2.21240299,  6.451692  ,  4.12323643,  7.57618358,  9.29333242,\n",
       "        10.84434146,  4.28743906,  8.03718016,  3.51166225,  5.9651009 ,\n",
       "         5.85007068,  6.58738635,  7.37221974,  4.23397073,  5.78866593,\n",
       "         3.15334352,  6.95321001,  9.0579529 ,  3.3949176 ,  9.05274107,\n",
       "         5.75929511, 10.61189833,  7.16421647,  7.07183742,  7.8553312 ,\n",
       "         5.31908289,  2.61116768,  8.38378316,  5.61830851,  4.81890177,\n",
       "        10.92745088,  2.92911644, 11.43550892,  7.26266401,  6.22655082,\n",
       "        16.3141409 ,  6.92934434,  4.57243288,  3.07000348,  6.51273861,\n",
       "         5.43688569,  5.55489364,  6.54665708,  5.36041947,  6.91102308,\n",
       "         5.99642791,  5.65980087,  9.93814456,  5.46996087,  2.38577525,\n",
       "         3.9673406 ,  3.07028599,  3.26450377,  4.36588601,  3.61027169,\n",
       "         7.53235567,  4.59116615,  3.57251406,  5.4901841 ,  9.66198929,\n",
       "         7.52184426,  6.60503959,  5.97107803,  3.84816839,  4.03734652,\n",
       "         5.99291926,  3.07926005,  7.11465845,  5.69558052, 10.10353093,\n",
       "         2.57617533,  6.28988621,  7.60879544,  5.06070109,  4.23545037,\n",
       "         8.91596326,  2.79454227,  5.89029366,  7.61805197,  4.06812176,\n",
       "         5.22573966,  3.94958362,  4.45003155,  3.12303036,  6.82404288,\n",
       "         6.87459051, 10.57202337,  5.67534102,  3.26962952,  4.83581961])}"
      ]
     },
     "execution_count": 2,
     "metadata": {},
     "output_type": "execute_result"
    }
   ],
   "source": [
    "dmf.default_params()"
   ]
  },
  {
   "cell_type": "code",
   "execution_count": null,
   "id": "fa7cca11",
   "metadata": {},
   "outputs": [],
   "source": []
  }
 ],
 "metadata": {
  "kernelspec": {
   "display_name": "Python 3 (ipykernel)",
   "language": "python",
   "name": "python3"
  },
  "language_info": {
   "codemirror_mode": {
    "name": "ipython",
    "version": 3
   },
   "file_extension": ".py",
   "mimetype": "text/x-python",
   "name": "python",
   "nbconvert_exporter": "python",
   "pygments_lexer": "ipython3",
   "version": "3.6.9"
  },
  "varInspector": {
   "cols": {
    "lenName": 16,
    "lenType": 16,
    "lenVar": 40
   },
   "kernels_config": {
    "python": {
     "delete_cmd_postfix": "",
     "delete_cmd_prefix": "del ",
     "library": "var_list.py",
     "varRefreshCmd": "print(var_dic_list())"
    },
    "r": {
     "delete_cmd_postfix": ") ",
     "delete_cmd_prefix": "rm(",
     "library": "var_list.r",
     "varRefreshCmd": "cat(var_dic_list()) "
    }
   },
   "types_to_exclude": [
    "module",
    "function",
    "builtin_function_or_method",
    "instance",
    "_Feature"
   ],
   "window_display": false
  }
 },
 "nbformat": 4,
 "nbformat_minor": 5
}
